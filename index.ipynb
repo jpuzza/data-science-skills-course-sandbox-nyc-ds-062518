{
 "cells": [
  {
   "cell_type": "markdown",
   "metadata": {},
   "source": [
    "# Pair Programming Environment"
   ]
  },
  {
   "cell_type": "code",
   "execution_count": 34,
   "metadata": {},
   "outputs": [],
   "source": [
    "cats = ['Maine Coon', 'Tabby', 'Siamese', 'Garfield', 'Sylvester']"
   ]
  },
  {
   "cell_type": "code",
   "execution_count": 35,
   "metadata": {},
   "outputs": [
    {
     "data": {
      "text/plain": [
       "['Siamese Jr.', 'Tabby Jr.', 'Maine Coon Jr.', 'Sylvester Jr.', 'Garfield Jr.']"
      ]
     },
     "execution_count": 35,
     "metadata": {},
     "output_type": "execute_result"
    }
   ],
   "source": [
    "cat_jr = []\n",
    "for each in cats:\n",
    "    cat = each + \" Jr.\"\n",
    "    cat_jr.append(cat)\n",
    "cat_jr.sort(key = lambda input:input[2])\n",
    "cat_jr"
   ]
  },
  {
   "cell_type": "code",
   "execution_count": 36,
   "metadata": {},
   "outputs": [],
   "source": [
    "l1 = [10,9,8,6,5,4,2,1,7]"
   ]
  },
  {
   "cell_type": "code",
   "execution_count": 37,
   "metadata": {},
   "outputs": [
    {
     "name": "stdout",
     "output_type": "stream",
     "text": [
      "10\n",
      "9\n",
      "8\n",
      "This is the number 8!\n",
      "6\n",
      "5\n",
      "4\n",
      "2\n",
      "This number is less than 3!\n",
      "1\n",
      "This number is less than 3!\n",
      "7\n"
     ]
    }
   ],
   "source": [
    "for number in l1:\n",
    "    print(number)\n",
    "    if number == 8:\n",
    "        print (\"This is the number 8!\")\n",
    "    elif number <3:\n",
    "        print(\"This number is less than 3!\")\n",
    "    else:\n",
    "        continue #sends back to the top of the loop\n",
    "        print(\"I don't actually print\")"
   ]
  },
  {
   "cell_type": "code",
   "execution_count": 38,
   "metadata": {},
   "outputs": [
    {
     "name": "stdout",
     "output_type": "stream",
     "text": [
      "1 is odd\n",
      "3 is odd\n",
      "5 is odd\n",
      "5 high five!\n",
      "7 is odd\n",
      "9 is odd\n",
      "11 is odd\n",
      "13 is odd\n",
      "14 is divisible by 14\n",
      "15 is odd\n",
      "15 high five!\n",
      "17 is odd\n",
      "19 is odd\n",
      "21 is odd\n",
      "23 is odd\n",
      "25 is odd\n",
      "25 high five!\n",
      "27 is odd\n",
      "28 is divisible by 14\n",
      "29 is odd\n",
      "31 is odd\n",
      "32 this happens twice!\n",
      "33 is odd\n",
      "35 is odd\n",
      "35 high five!\n",
      "37 is odd\n",
      "39 is odd\n",
      "40 this happens twice!\n",
      "41 is odd\n",
      "42 is divisible by 14\n",
      "43 is odd\n",
      "45 is odd\n",
      "45 high five!\n",
      "47 is odd\n",
      "49 is odd\n",
      "51 is odd\n",
      "53 is odd\n",
      "55 is odd\n",
      "55 high five!\n",
      "56 is divisible by 14\n",
      "57 is odd\n",
      "59 is odd\n",
      "61 is odd\n",
      "63 is odd\n",
      "65 is odd\n",
      "65 high five!\n",
      "67 is odd\n",
      "69 is odd\n",
      "70 is divisible by 14\n",
      "71 is odd\n",
      "73 is odd\n",
      "75 is odd\n",
      "75 high five!\n",
      "77 is odd\n",
      "79 is odd\n",
      "81 is odd\n",
      "83 is odd\n",
      "84 is divisible by 14\n",
      "85 is odd\n",
      "85 high five!\n",
      "87 is odd\n",
      "89 is odd\n",
      "91 is odd\n",
      "93 is odd\n",
      "95 is odd\n",
      "95 high five!\n",
      "97 is odd\n",
      "98 is divisible by 14\n",
      "99 is odd\n"
     ]
    }
   ],
   "source": [
    "for n in range(1,101):\n",
    "    if n%2 !=0:\n",
    "        print(str(n) + \" is odd\")\n",
    "    elif n%2 == 0 and n%7 == 0:\n",
    "        print(str(n) + \" is divisible by 14\")\n",
    "    elif n>30 and n<45 and n%8 == 0:\n",
    "        print(str(n) + \" this happens twice!\")\n",
    "    if n%5 == 0 and n%2 != 0:\n",
    "        print(str(n) + \" high five!\")\n",
    "        "
   ]
  },
  {
   "cell_type": "code",
   "execution_count": 39,
   "metadata": {},
   "outputs": [
    {
     "name": "stdout",
     "output_type": "stream",
     "text": [
      "1 is odd\n",
      "3 is odd\n",
      "3 is prime!\n",
      "5 is odd\n",
      "5 high five!\n",
      "5 is prime!\n",
      "7 is odd\n",
      "7 is prime!\n",
      "9 is odd\n",
      "9 is prime!\n",
      "11 is odd\n",
      "11 is prime!\n",
      "13 is odd\n",
      "13 is prime!\n",
      "14 is divisible by 14\n",
      "15 is odd\n",
      "15 high five!\n",
      "15 is prime!\n",
      "17 is odd\n",
      "17 is prime!\n",
      "19 is odd\n",
      "19 is prime!\n",
      "21 is odd\n",
      "21 is prime!\n",
      "23 is odd\n",
      "23 is prime!\n",
      "25 is odd\n",
      "25 high five!\n",
      "25 is prime!\n",
      "27 is odd\n",
      "27 is prime!\n",
      "28 is divisible by 14\n",
      "29 is odd\n",
      "29 is prime!\n",
      "31 is odd\n",
      "31 is prime!\n",
      "32 this happens twice!\n",
      "33 is odd\n",
      "33 is prime!\n",
      "35 is odd\n",
      "35 high five!\n",
      "35 is prime!\n",
      "37 is odd\n",
      "37 is prime!\n",
      "39 is odd\n",
      "39 is prime!\n",
      "40 this happens twice!\n",
      "41 is odd\n",
      "41 is prime!\n",
      "42 is divisible by 14\n",
      "43 is odd\n",
      "43 is prime!\n",
      "45 is odd\n",
      "45 high five!\n",
      "45 is prime!\n",
      "47 is odd\n",
      "47 is prime!\n",
      "49 is odd\n",
      "49 is prime!\n",
      "51 is odd\n",
      "51 is prime!\n",
      "53 is odd\n",
      "53 is prime!\n",
      "55 is odd\n",
      "55 high five!\n",
      "55 is prime!\n",
      "56 is divisible by 14\n",
      "57 is odd\n",
      "57 is prime!\n",
      "59 is odd\n",
      "59 is prime!\n",
      "61 is odd\n",
      "61 is prime!\n",
      "63 is odd\n",
      "63 is prime!\n",
      "65 is odd\n",
      "65 high five!\n",
      "65 is prime!\n",
      "67 is odd\n",
      "67 is prime!\n",
      "69 is odd\n",
      "69 is prime!\n",
      "70 is divisible by 14\n",
      "71 is odd\n",
      "71 is prime!\n",
      "73 is odd\n",
      "73 is prime!\n",
      "75 is odd\n",
      "75 high five!\n",
      "75 is prime!\n",
      "77 is odd\n",
      "77 is prime!\n",
      "79 is odd\n",
      "79 is prime!\n",
      "81 is odd\n",
      "81 is prime!\n",
      "83 is odd\n",
      "83 is prime!\n",
      "84 is divisible by 14\n",
      "85 is odd\n",
      "85 high five!\n",
      "85 is prime!\n",
      "87 is odd\n",
      "87 is prime!\n",
      "89 is odd\n",
      "89 is prime!\n",
      "91 is odd\n",
      "91 is prime!\n",
      "93 is odd\n",
      "93 is prime!\n",
      "95 is odd\n",
      "95 high five!\n",
      "95 is prime!\n",
      "97 is odd\n",
      "97 is prime!\n",
      "98 is divisible by 14\n",
      "99 is odd\n",
      "99 is prime!\n"
     ]
    }
   ],
   "source": [
    "for n in range(1,101):\n",
    "    if n%2 !=0:\n",
    "        print(str(n) + \" is odd\")\n",
    "    if n%2 == 0 and n%7 == 0:\n",
    "        print(str(n) + \" is divisible by 14\")\n",
    "    if n%5 == 0 and n%2 != 0:\n",
    "        print(str(n) + \" high five!\")\n",
    "    if n>30 and n<45 and n%8 == 0:\n",
    "        print(str(n) + \" this happens twice!\")\n",
    "    if n/n == 1 and n/1 == n and n%2 != 0 and n != 1:\n",
    "        print(str(n) + \" is prime!\")"
   ]
  },
  {
   "cell_type": "code",
   "execution_count": 40,
   "metadata": {},
   "outputs": [],
   "source": [
    "def babylonian_algorithm(number):\n",
    "    if(number == 0):\n",
    "        return 0;\n",
    "\n",
    "    g = number/2.0;\n",
    "    g2 = g + 1;\n",
    "    while(g != g2):\n",
    "        n = number/ g;\n",
    "        g2 = g;\n",
    "        g = (g + n)/2;\n",
    "\n",
    "    return g;\n",
    "        "
   ]
  },
  {
   "cell_type": "code",
   "execution_count": 41,
   "metadata": {},
   "outputs": [],
   "source": [
    "first_1000_square = []\n",
    "xs = list(range(1,1001))\n",
    "for n in xs:\n",
    "    first = n**2\n",
    "    first_1000_square.append(first)\n"
   ]
  },
  {
   "cell_type": "code",
   "execution_count": 42,
   "metadata": {},
   "outputs": [],
   "source": [
    "import plotly "
   ]
  },
  {
   "cell_type": "code",
   "execution_count": 59,
   "metadata": {},
   "outputs": [],
   "source": [
    "trace0 = {'type': 'scatter', 'x': xs , 'y': first_1000_square}"
   ]
  },
  {
   "cell_type": "code",
   "execution_count": null,
   "metadata": {},
   "outputs": [],
   "source": [
    "plotly.offline.init_notebook_mode(connected=True)"
   ]
  },
  {
   "cell_type": "code",
   "execution_count": 1,
   "metadata": {},
   "outputs": [
    {
     "ename": "NameError",
     "evalue": "name 'plotly' is not defined",
     "output_type": "error",
     "traceback": [
      "\u001b[0;31m\u001b[0m",
      "\u001b[0;31mNameError\u001b[0mTraceback (most recent call last)",
      "\u001b[0;32m<ipython-input-1-599a75e02515>\u001b[0m in \u001b[0;36m<module>\u001b[0;34m()\u001b[0m\n\u001b[0;32m----> 1\u001b[0;31m \u001b[0mplotly\u001b[0m\u001b[0;34m.\u001b[0m\u001b[0moffline\u001b[0m\u001b[0;34m.\u001b[0m\u001b[0miplot\u001b[0m\u001b[0;34m(\u001b[0m\u001b[0;34m[\u001b[0m\u001b[0mtrace0\u001b[0m\u001b[0;34m]\u001b[0m\u001b[0;34m)\u001b[0m\u001b[0;34m\u001b[0m\u001b[0m\n\u001b[0m",
      "\u001b[0;31mNameError\u001b[0m: name 'plotly' is not defined"
     ]
    }
   ],
   "source": [
    "plotly.offline.iplot([trace0])"
   ]
  },
  {
   "cell_type": "code",
   "execution_count": 64,
   "metadata": {},
   "outputs": [],
   "source": [
    "import pandas as pd"
   ]
  },
  {
   "cell_type": "code",
   "execution_count": null,
   "metadata": {},
   "outputs": [],
   "source": []
  },
  {
   "cell_type": "code",
   "execution_count": null,
   "metadata": {},
   "outputs": [],
   "source": []
  },
  {
   "cell_type": "code",
   "execution_count": null,
   "metadata": {},
   "outputs": [],
   "source": []
  },
  {
   "cell_type": "code",
   "execution_count": null,
   "metadata": {},
   "outputs": [],
   "source": []
  },
  {
   "cell_type": "code",
   "execution_count": null,
   "metadata": {},
   "outputs": [],
   "source": []
  },
  {
   "cell_type": "code",
   "execution_count": null,
   "metadata": {},
   "outputs": [],
   "source": []
  },
  {
   "cell_type": "code",
   "execution_count": null,
   "metadata": {},
   "outputs": [],
   "source": []
  },
  {
   "cell_type": "code",
   "execution_count": null,
   "metadata": {},
   "outputs": [],
   "source": []
  },
  {
   "cell_type": "code",
   "execution_count": null,
   "metadata": {},
   "outputs": [],
   "source": []
  },
  {
   "cell_type": "code",
   "execution_count": null,
   "metadata": {},
   "outputs": [],
   "source": []
  },
  {
   "cell_type": "code",
   "execution_count": null,
   "metadata": {},
   "outputs": [],
   "source": []
  },
  {
   "cell_type": "code",
   "execution_count": null,
   "metadata": {},
   "outputs": [],
   "source": []
  },
  {
   "cell_type": "code",
   "execution_count": null,
   "metadata": {},
   "outputs": [],
   "source": []
  },
  {
   "cell_type": "code",
   "execution_count": null,
   "metadata": {},
   "outputs": [],
   "source": []
  },
  {
   "cell_type": "code",
   "execution_count": null,
   "metadata": {},
   "outputs": [],
   "source": []
  },
  {
   "cell_type": "code",
   "execution_count": null,
   "metadata": {},
   "outputs": [],
   "source": []
  },
  {
   "cell_type": "code",
   "execution_count": null,
   "metadata": {},
   "outputs": [],
   "source": []
  },
  {
   "cell_type": "code",
   "execution_count": null,
   "metadata": {},
   "outputs": [],
   "source": []
  },
  {
   "cell_type": "code",
   "execution_count": null,
   "metadata": {},
   "outputs": [],
   "source": []
  },
  {
   "cell_type": "code",
   "execution_count": null,
   "metadata": {},
   "outputs": [],
   "source": []
  },
  {
   "cell_type": "code",
   "execution_count": null,
   "metadata": {},
   "outputs": [],
   "source": []
  },
  {
   "cell_type": "code",
   "execution_count": null,
   "metadata": {},
   "outputs": [],
   "source": []
  },
  {
   "cell_type": "code",
   "execution_count": null,
   "metadata": {},
   "outputs": [],
   "source": []
  },
  {
   "cell_type": "code",
   "execution_count": null,
   "metadata": {},
   "outputs": [],
   "source": []
  },
  {
   "cell_type": "code",
   "execution_count": null,
   "metadata": {},
   "outputs": [],
   "source": []
  },
  {
   "cell_type": "code",
   "execution_count": null,
   "metadata": {},
   "outputs": [],
   "source": []
  },
  {
   "cell_type": "code",
   "execution_count": null,
   "metadata": {},
   "outputs": [],
   "source": []
  },
  {
   "cell_type": "code",
   "execution_count": null,
   "metadata": {},
   "outputs": [],
   "source": []
  },
  {
   "cell_type": "code",
   "execution_count": null,
   "metadata": {},
   "outputs": [],
   "source": []
  },
  {
   "cell_type": "code",
   "execution_count": null,
   "metadata": {},
   "outputs": [],
   "source": []
  },
  {
   "cell_type": "code",
   "execution_count": null,
   "metadata": {},
   "outputs": [],
   "source": []
  },
  {
   "cell_type": "code",
   "execution_count": null,
   "metadata": {},
   "outputs": [],
   "source": []
  },
  {
   "cell_type": "code",
   "execution_count": null,
   "metadata": {},
   "outputs": [],
   "source": []
  },
  {
   "cell_type": "code",
   "execution_count": null,
   "metadata": {},
   "outputs": [],
   "source": []
  },
  {
   "cell_type": "code",
   "execution_count": null,
   "metadata": {},
   "outputs": [],
   "source": []
  },
  {
   "cell_type": "code",
   "execution_count": null,
   "metadata": {},
   "outputs": [],
   "source": []
  },
  {
   "cell_type": "code",
   "execution_count": null,
   "metadata": {},
   "outputs": [],
   "source": []
  },
  {
   "cell_type": "code",
   "execution_count": null,
   "metadata": {},
   "outputs": [],
   "source": []
  },
  {
   "cell_type": "code",
   "execution_count": null,
   "metadata": {},
   "outputs": [],
   "source": []
  },
  {
   "cell_type": "code",
   "execution_count": null,
   "metadata": {},
   "outputs": [],
   "source": []
  },
  {
   "cell_type": "code",
   "execution_count": null,
   "metadata": {},
   "outputs": [],
   "source": []
  },
  {
   "cell_type": "code",
   "execution_count": null,
   "metadata": {},
   "outputs": [],
   "source": []
  },
  {
   "cell_type": "code",
   "execution_count": null,
   "metadata": {},
   "outputs": [],
   "source": []
  },
  {
   "cell_type": "code",
   "execution_count": null,
   "metadata": {},
   "outputs": [],
   "source": []
  },
  {
   "cell_type": "code",
   "execution_count": null,
   "metadata": {},
   "outputs": [],
   "source": []
  },
  {
   "cell_type": "code",
   "execution_count": null,
   "metadata": {},
   "outputs": [],
   "source": []
  },
  {
   "cell_type": "code",
   "execution_count": null,
   "metadata": {},
   "outputs": [],
   "source": []
  },
  {
   "cell_type": "code",
   "execution_count": null,
   "metadata": {},
   "outputs": [],
   "source": []
  },
  {
   "cell_type": "code",
   "execution_count": null,
   "metadata": {},
   "outputs": [],
   "source": []
  },
  {
   "cell_type": "code",
   "execution_count": null,
   "metadata": {},
   "outputs": [],
   "source": []
  },
  {
   "cell_type": "code",
   "execution_count": null,
   "metadata": {},
   "outputs": [],
   "source": [
    "\n",
    "    "
   ]
  },
  {
   "cell_type": "code",
   "execution_count": null,
   "metadata": {},
   "outputs": [],
   "source": []
  },
  {
   "cell_type": "code",
   "execution_count": null,
   "metadata": {},
   "outputs": [],
   "source": []
  },
  {
   "cell_type": "code",
   "execution_count": null,
   "metadata": {},
   "outputs": [],
   "source": []
  },
  {
   "cell_type": "code",
   "execution_count": null,
   "metadata": {},
   "outputs": [],
   "source": []
  },
  {
   "cell_type": "code",
   "execution_count": null,
   "metadata": {},
   "outputs": [],
   "source": []
  },
  {
   "cell_type": "code",
   "execution_count": null,
   "metadata": {},
   "outputs": [],
   "source": [
    "\n"
   ]
  },
  {
   "cell_type": "code",
   "execution_count": null,
   "metadata": {},
   "outputs": [],
   "source": []
  },
  {
   "cell_type": "code",
   "execution_count": null,
   "metadata": {},
   "outputs": [],
   "source": []
  },
  {
   "cell_type": "code",
   "execution_count": null,
   "metadata": {},
   "outputs": [],
   "source": []
  },
  {
   "cell_type": "code",
   "execution_count": null,
   "metadata": {},
   "outputs": [],
   "source": []
  },
  {
   "cell_type": "code",
   "execution_count": null,
   "metadata": {},
   "outputs": [],
   "source": []
  },
  {
   "cell_type": "code",
   "execution_count": null,
   "metadata": {
    "scrolled": true
   },
   "outputs": [],
   "source": []
  },
  {
   "cell_type": "code",
   "execution_count": null,
   "metadata": {},
   "outputs": [],
   "source": []
  },
  {
   "cell_type": "code",
   "execution_count": null,
   "metadata": {},
   "outputs": [],
   "source": []
  },
  {
   "cell_type": "code",
   "execution_count": null,
   "metadata": {},
   "outputs": [],
   "source": []
  },
  {
   "cell_type": "code",
   "execution_count": null,
   "metadata": {},
   "outputs": [],
   "source": []
  },
  {
   "cell_type": "code",
   "execution_count": null,
   "metadata": {},
   "outputs": [],
   "source": []
  },
  {
   "cell_type": "code",
   "execution_count": null,
   "metadata": {},
   "outputs": [],
   "source": []
  },
  {
   "cell_type": "code",
   "execution_count": null,
   "metadata": {},
   "outputs": [],
   "source": []
  },
  {
   "cell_type": "code",
   "execution_count": null,
   "metadata": {},
   "outputs": [],
   "source": []
  },
  {
   "cell_type": "code",
   "execution_count": null,
   "metadata": {},
   "outputs": [],
   "source": []
  },
  {
   "cell_type": "code",
   "execution_count": null,
   "metadata": {},
   "outputs": [],
   "source": []
  },
  {
   "cell_type": "code",
   "execution_count": null,
   "metadata": {},
   "outputs": [],
   "source": []
  },
  {
   "cell_type": "code",
   "execution_count": null,
   "metadata": {},
   "outputs": [],
   "source": []
  },
  {
   "cell_type": "code",
   "execution_count": null,
   "metadata": {},
   "outputs": [],
   "source": []
  },
  {
   "cell_type": "code",
   "execution_count": null,
   "metadata": {},
   "outputs": [],
   "source": []
  }
 ],
 "metadata": {
  "kernelspec": {
   "display_name": "Python 3",
   "language": "python",
   "name": "python3"
  },
  "language_info": {
   "codemirror_mode": {
    "name": "ipython",
    "version": 3
   },
   "file_extension": ".py",
   "mimetype": "text/x-python",
   "name": "python",
   "nbconvert_exporter": "python",
   "pygments_lexer": "ipython3",
   "version": "3.6.4"
  }
 },
 "nbformat": 4,
 "nbformat_minor": 2
}
